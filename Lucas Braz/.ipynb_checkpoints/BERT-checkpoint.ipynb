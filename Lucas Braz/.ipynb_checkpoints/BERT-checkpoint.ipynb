{
 "cells": [
  {
   "cell_type": "raw",
   "source": [],
   "metadata": {
    "collapsed": false
   },
   "id": "fbfd888cb4e16373"
  }
 ],
 "metadata": {},
 "nbformat": 4,
 "nbformat_minor": 5
}
