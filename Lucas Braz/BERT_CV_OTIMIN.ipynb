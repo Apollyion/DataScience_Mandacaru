{
 "cells": [
  {
   "cell_type": "markdown",
   "source": [
    "## Section 1: Imports and Reading Data"
   ],
   "metadata": {
    "collapsed": false
   },
   "id": "5efdf5bdc449ec58"
  },
  {
   "cell_type": "code",
   "execution_count": 1,
   "outputs": [
    {
     "name": "stderr",
     "output_type": "stream",
     "text": [
      "2023-11-28 19:02:16.543889: E external/local_xla/xla/stream_executor/cuda/cuda_dnn.cc:9261] Unable to register cuDNN factory: Attempting to register factory for plugin cuDNN when one has already been registered\n",
      "2023-11-28 19:02:16.543927: E external/local_xla/xla/stream_executor/cuda/cuda_fft.cc:607] Unable to register cuFFT factory: Attempting to register factory for plugin cuFFT when one has already been registered\n",
      "2023-11-28 19:02:16.545206: E external/local_xla/xla/stream_executor/cuda/cuda_blas.cc:1515] Unable to register cuBLAS factory: Attempting to register factory for plugin cuBLAS when one has already been registered\n",
      "2023-11-28 19:02:16.552409: I tensorflow/core/platform/cpu_feature_guard.cc:182] This TensorFlow binary is optimized to use available CPU instructions in performance-critical operations.\n",
      "To enable the following instructions: AVX2 FMA, in other operations, rebuild TensorFlow with the appropriate compiler flags.\n",
      "2023-11-28 19:02:17.844880: W tensorflow/compiler/tf2tensorrt/utils/py_utils.cc:38] TF-TRT Warning: Could not find TensorRT\n"
     ]
    }
   ],
   "source": [
    "# Imports\n",
    "import numpy as np\n",
    "import pandas as pd\n",
    "import transformers\n",
    "from transformers import BertModel\n",
    "from sklearn.model_selection import train_test_split, StratifiedKFold\n",
    "from sklearn.preprocessing import LabelEncoder\n",
    "import torch\n",
    "from torch import nn, optim\n",
    "from torch.optim.lr_scheduler import ReduceLROnPlateau\n",
    "from torch.utils.data import Dataset, DataLoader\n",
    "from torch.utils.tensorboard import SummaryWriter"
   ],
   "metadata": {
    "collapsed": false,
    "ExecuteTime": {
     "end_time": "2023-11-28T22:02:18.678949462Z",
     "start_time": "2023-11-28T22:02:13.578817712Z"
    }
   },
   "id": "initial_id"
  },
  {
   "cell_type": "code",
   "execution_count": 2,
   "outputs": [],
   "source": [
    "# Reading Data\n",
    "df = pd.read_csv(\"data.csv\")\n",
    "encoder = LabelEncoder()\n",
    "labels = encoder.fit_transform(df.Sentiment)"
   ],
   "metadata": {
    "collapsed": false,
    "ExecuteTime": {
     "end_time": "2023-11-28T22:02:18.699430114Z",
     "start_time": "2023-11-28T22:02:18.681252761Z"
    }
   },
   "id": "11be062a0f81f65e"
  },
  {
   "cell_type": "markdown",
   "source": [
    "## Section 2: Preprocessing and Tokenization"
   ],
   "metadata": {
    "collapsed": false
   },
   "id": "823ec94a90ecb3fc"
  },
  {
   "cell_type": "code",
   "execution_count": 3,
   "outputs": [],
   "source": [
    "# Remove rows with null values\n",
    "df = df.dropna()\n",
    "\n",
    "# Tokenization\n",
    "tokenizer = transformers.BertTokenizer.from_pretrained('bert-base-uncased')\n",
    "X_train, X_test, y_train, y_test = train_test_split(df.Sentence.values, labels, test_size=0.2, stratify=df.Sentiment.values)"
   ],
   "metadata": {
    "collapsed": false,
    "ExecuteTime": {
     "end_time": "2023-11-28T22:02:19.210131147Z",
     "start_time": "2023-11-28T22:02:18.700018352Z"
    }
   },
   "id": "21005642e38b9e26"
  },
  {
   "cell_type": "code",
   "execution_count": 4,
   "outputs": [],
   "source": [
    "# Section 3: Dataset Class"
   ],
   "metadata": {
    "collapsed": false,
    "ExecuteTime": {
     "end_time": "2023-11-28T22:02:19.225223042Z",
     "start_time": "2023-11-28T22:02:19.215326823Z"
    }
   },
   "id": "5cc0e0762529db69"
  },
  {
   "cell_type": "code",
   "execution_count": 5,
   "outputs": [],
   "source": [
    "# Dataset Class\n",
    "class Datagen(Dataset):\n",
    "    def __init__(self, sentence, target, tokenizer, max_len):\n",
    "        self.sentence = sentence\n",
    "        self.target = target\n",
    "        self.tokenizer = tokenizer\n",
    "        self.max_len = max_len\n",
    "\n",
    "    def __len__(self):\n",
    "        return len(self.sentence)\n",
    "\n",
    "    def __getitem__(self, idx):\n",
    "        sentence = self.sentence[idx]\n",
    "        bert_encoding = tokenizer.encode_plus(\n",
    "            sentence,\n",
    "            max_length=self.max_len,\n",
    "            add_special_tokens=True,\n",
    "            padding='max_length',\n",
    "            truncation=True,\n",
    "            return_attention_mask=True,\n",
    "            return_token_type_ids=False,\n",
    "            return_tensors='pt'\n",
    "        )\n",
    "        return {\n",
    "            \"input_ids\": torch.squeeze(bert_encoding[\"input_ids\"]),\n",
    "            \"attention_mask\": torch.squeeze(bert_encoding[\"attention_mask\"]),\n",
    "            \"target\": torch.tensor(self.target[idx], dtype=torch.long)\n",
    "        }\n"
   ],
   "metadata": {
    "collapsed": false,
    "ExecuteTime": {
     "end_time": "2023-11-28T22:02:20.036187540Z",
     "start_time": "2023-11-28T22:02:20.012464266Z"
    }
   },
   "id": "106ada1fa2c497b"
  },
  {
   "cell_type": "code",
   "execution_count": 6,
   "outputs": [],
   "source": [
    "# Section 4: TensorBoard Configuration and Model Parameters"
   ],
   "metadata": {
    "collapsed": false,
    "ExecuteTime": {
     "end_time": "2023-11-28T22:02:20.594698340Z",
     "start_time": "2023-11-28T22:02:20.580763272Z"
    }
   },
   "id": "419b48648e9e624e"
  },
  {
   "cell_type": "code",
   "execution_count": 7,
   "outputs": [
    {
     "name": "stderr",
     "output_type": "stream",
     "text": [
      "Some weights of the model checkpoint at bert-base-uncased were not used when initializing BertModel: ['cls.seq_relationship.bias', 'cls.predictions.transform.dense.bias', 'cls.predictions.transform.LayerNorm.weight', 'cls.predictions.transform.LayerNorm.bias', 'cls.predictions.transform.dense.weight', 'cls.predictions.bias', 'cls.seq_relationship.weight', 'cls.predictions.decoder.weight']\n",
      "- This IS expected if you are initializing BertModel from the checkpoint of a model trained on another task or with another architecture (e.g. initializing a BertForSequenceClassification model from a BertForPreTraining model).\n",
      "- This IS NOT expected if you are initializing BertModel from the checkpoint of a model that you expect to be exactly identical (initializing a BertForSequenceClassification model from a BertForSequenceClassification model).\n"
     ]
    }
   ],
   "source": [
    "# TensorBoard Configuration\n",
    "writer = SummaryWriter()\n",
    "\n",
    "class SentimentModel(nn.Module):\n",
    "    def __init__(self, n_class):\n",
    "        super(SentimentModel, self).__init__()\n",
    "        self.bert = BertModel.from_pretrained(\"bert-base-uncased\")\n",
    "        self.drop = nn.Dropout(0.3)\n",
    "        self.out = nn.Linear(self.bert.config.hidden_size, n_class)\n",
    "        self.softmax = nn.Softmax(dim=1)\n",
    "\n",
    "    def forward(self, input_ids, attention_mask):\n",
    "        _, pooled_output = self.bert(input_ids, attention_mask, return_dict=False)\n",
    "        output = self.drop(pooled_output)\n",
    "        output = self.out(output)\n",
    "        return self.softmax(output)\n",
    "\n",
    "model = SentimentModel(n_class=3)\n",
    "model = model.to(torch.device('cuda'))\n",
    "optimizer = torch.optim.AdamW(model.parameters(), lr=2e-5)\n",
    "criterion = nn.CrossEntropyLoss()\n",
    "scheduler = ReduceLROnPlateau(optimizer, 'min')\n"
   ],
   "metadata": {
    "collapsed": false,
    "ExecuteTime": {
     "end_time": "2023-11-28T22:02:23.761397961Z",
     "start_time": "2023-11-28T22:02:20.900973484Z"
    }
   },
   "id": "c788409aa18a0d2b"
  },
  {
   "cell_type": "code",
   "execution_count": 8,
   "outputs": [],
   "source": [
    "# Section 5: Helper Functions"
   ],
   "metadata": {
    "collapsed": false,
    "ExecuteTime": {
     "end_time": "2023-11-28T22:02:23.807148263Z",
     "start_time": "2023-11-28T22:02:23.764872035Z"
    }
   },
   "id": "fe7444115a5edf13"
  },
  {
   "cell_type": "code",
   "execution_count": 9,
   "outputs": [],
   "source": [
    "def check_acc(preds, labels):\n",
    "    correct = 0\n",
    "    for pred, label in zip(preds, labels):\n",
    "        if pred == label:\n",
    "            correct += 1\n",
    "    return correct/len(preds)\n",
    "\n",
    "def accuracy(dataloader, model):\n",
    "    model.eval()\n",
    "    batch_acc = 0\n",
    "    for inputs in dataloader:\n",
    "        to_cuda = lambda x: x.to(torch.device('cuda'), non_blocking=True).long()\n",
    "        input_ids, attention_mask, target = list(map(to_cuda, inputs.values()))\n",
    "\n",
    "        outputs = model(input_ids, attention_mask)\n",
    "        prediction = outputs.argmax(dim=1)\n",
    "        acc = check_acc(prediction, target)\n",
    "        batch_acc += acc\n",
    "    return batch_acc/len(dataloader)\n"
   ],
   "metadata": {
    "collapsed": false,
    "ExecuteTime": {
     "end_time": "2023-11-28T22:02:23.807642306Z",
     "start_time": "2023-11-28T22:02:23.806916872Z"
    }
   },
   "id": "48115469d0a0ec8"
  },
  {
   "cell_type": "code",
   "execution_count": 10,
   "outputs": [],
   "source": [
    "# Section 6: Training with Cross-Validation"
   ],
   "metadata": {
    "collapsed": false,
    "ExecuteTime": {
     "end_time": "2023-11-28T22:02:23.809910098Z",
     "start_time": "2023-11-28T22:02:23.807420572Z"
    }
   },
   "id": "b15988f81132aec4"
  },
  {
   "cell_type": "code",
   "execution_count": 11,
   "outputs": [
    {
     "name": "stdout",
     "output_type": "stream",
     "text": [
      "Fold 1/5\n",
      "Fold 1/5\t Epoch: 0\t Train accuracy: 0.8148464163822525\t CV accuracy: 0.7708180708180711\n",
      "Fold 1/5\t Epoch: 1\t Train accuracy: 0.830844709897611\t CV accuracy: 0.7315018315018318\n",
      "Fold 1/5\t Epoch: 2\t Train accuracy: 0.8602815699658704\t CV accuracy: 0.7399267399267402\n",
      "Fold 1/5\t Epoch: 3\t Train accuracy: 0.8656143344709898\t CV accuracy: 0.7228327228327232\n",
      "Fold 1/5\t Epoch: 4\t Train accuracy: 0.8822525597269625\t CV accuracy: 0.7330891330891336\n",
      "Fold 2/5\n",
      "Fold 2/5\t Epoch: 0\t Train accuracy: 0.8511092150170648\t CV accuracy: 0.8698412698412701\n",
      "Fold 2/5\t Epoch: 1\t Train accuracy: 0.859641638225256\t CV accuracy: 0.8612942612942616\n",
      "Fold 2/5\t Epoch: 2\t Train accuracy: 0.8540955631399317\t CV accuracy: 0.8509157509157514\n",
      "Fold 2/5\t Epoch: 3\t Train accuracy: 0.8647610921501706\t CV accuracy: 0.8732600732600735\n",
      "Fold 2/5\t Epoch: 4\t Train accuracy: 0.869240614334471\t CV accuracy: 0.857875457875458\n",
      "Fold 3/5\n",
      "Fold 3/5\t Epoch: 0\t Train accuracy: 0.8585750853242321\t CV accuracy: 0.876800976800977\n",
      "Fold 3/5\t Epoch: 1\t Train accuracy: 0.8626279863481229\t CV accuracy: 0.8735042735042736\n",
      "Fold 3/5\t Epoch: 2\t Train accuracy: 0.8705204778156996\t CV accuracy: 0.8717948717948718\n",
      "Fold 3/5\t Epoch: 3\t Train accuracy: 0.8726535836177475\t CV accuracy: 0.8803418803418804\n",
      "Fold 3/5\t Epoch: 4\t Train accuracy: 0.8690273037542662\t CV accuracy: 0.8735042735042736\n",
      "Fold 4/5\n",
      "Fold 4/5\t Epoch: 0\t Train accuracy: 0.8664675767918089\t CV accuracy: 0.8954822954822955\n",
      "Fold 4/5\t Epoch: 1\t Train accuracy: 0.8647610921501706\t CV accuracy: 0.8971916971916971\n",
      "Fold 4/5\t Epoch: 2\t Train accuracy: 0.8715870307167235\t CV accuracy: 0.8971916971916971\n",
      "Fold 4/5\t Epoch: 3\t Train accuracy: 0.873080204778157\t CV accuracy: 0.8954822954822955\n",
      "Fold 4/5\t Epoch: 4\t Train accuracy: 0.8709470989761092\t CV accuracy: 0.8903540903540905\n",
      "Fold 5/5\n",
      "Fold 5/5\t Epoch: 0\t Train accuracy: 0.876919795221843\t CV accuracy: 0.8631257631257634\n",
      "Fold 5/5\t Epoch: 1\t Train accuracy: 0.8809726962457338\t CV accuracy: 0.8682539682539686\n",
      "Fold 5/5\t Epoch: 2\t Train accuracy: 0.8773464163822525\t CV accuracy: 0.8699633699633702\n",
      "Fold 5/5\t Epoch: 3\t Train accuracy: 0.8805460750853242\t CV accuracy: 0.8699633699633702\n",
      "Fold 5/5\t Epoch: 4\t Train accuracy: 0.8813993174061433\t CV accuracy: 0.864835164835165\n"
     ]
    }
   ],
   "source": [
    "num_epochs = 5\n",
    "skf = StratifiedKFold(n_splits=5, shuffle=True, random_state=42)\n",
    "\n",
    "for fold, (train_index, test_index) in enumerate(skf.split(df.Sentence.values, labels)):\n",
    "    print(f\"Fold {fold + 1}/{skf.get_n_splits()}\")\n",
    "\n",
    "    X_train, X_temp = df.Sentence.values[train_index], df.Sentence.values[test_index]\n",
    "    y_train, y_temp = labels[train_index], labels[test_index]\n",
    "\n",
    "    # Further split the test set into cv and test\n",
    "    X_cv, X_test, y_cv, y_test = train_test_split(X_temp, y_temp, test_size=0.5, stratify=y_temp)\n",
    "\n",
    "    train_data = Datagen(X_train, y_train, tokenizer, 50)\n",
    "    cv_data = Datagen(X_cv, y_cv, tokenizer, 50)\n",
    "    test_data = Datagen(X_test, y_test, tokenizer, 50)\n",
    "\n",
    "    train_dataloader = DataLoader(train_data, batch_size=16, num_workers=2)\n",
    "    cv_dataloader = DataLoader(cv_data, batch_size=15, num_workers=2)\n",
    "    test_dataloader = DataLoader(test_data, batch_size=15, num_workers=2)\n",
    "\n",
    "    for epoch in range(num_epochs):\n",
    "        model.train()\n",
    "        total_loss = 0\n",
    "        for steps, inputs in enumerate(train_dataloader):\n",
    "            to_cuda = lambda x: x.to(torch.device('cuda'), non_blocking=True).long()\n",
    "            input_ids, attention_mask, target = list(map(to_cuda, inputs.values()))\n",
    "            outputs = model(input_ids, attention_mask)\n",
    "            loss = criterion(outputs, target)\n",
    "            optimizer.zero_grad()\n",
    "            loss.backward()\n",
    "            optimizer.step()\n",
    "            total_loss += loss.item()\n",
    "\n",
    "        average_loss = total_loss / len(train_dataloader)\n",
    "        writer.add_scalar(f\"Train/Average_Loss_Fold{fold}\", average_loss, epoch)\n",
    "\n",
    "        train_acc = accuracy(train_dataloader, model)\n",
    "        cv_acc = accuracy(cv_dataloader, model)\n",
    "\n",
    "        print(f\"Fold {fold + 1}/{skf.get_n_splits()}\\t Epoch: {epoch}\\t Train accuracy: {train_acc}\\t CV accuracy: {cv_acc}\")\n",
    "\n",
    "        writer.add_scalar(f\"Train/Accuracy_Fold{fold}\", train_acc, epoch)\n",
    "        writer.add_scalar(f\"CV/Accuracy_Fold{fold}\", cv_acc, epoch)\n",
    "\n",
    "        scheduler.step(average_loss) "
   ],
   "metadata": {
    "collapsed": false,
    "ExecuteTime": {
     "end_time": "2023-11-28T22:18:49.095228006Z",
     "start_time": "2023-11-28T22:02:23.807844232Z"
    }
   },
   "id": "f6b5ac8859b09729"
  },
  {
   "cell_type": "code",
   "execution_count": 14,
   "outputs": [
    {
     "name": "stdout",
     "output_type": "stream",
     "text": [
      "Test accuracy: 0.8749694749694751\n",
      "              precision    recall  f1-score   support\n",
      "\n",
      "           0       0.81      0.41      0.54        86\n",
      "           1       0.85      0.95      0.90       313\n",
      "           2       0.93      0.97      0.95       185\n",
      "\n",
      "    accuracy                           0.88       584\n",
      "   macro avg       0.87      0.77      0.80       584\n",
      "weighted avg       0.87      0.88      0.86       584\n"
     ]
    },
    {
     "data": {
      "text/plain": "<Figure size 640x480 with 2 Axes>",
      "image/png": "[encoded data removed]"
     },
     "metadata": {},
     "output_type": "display_data"
    }
   ],
   "source": [
    "# Testing\n",
    "model.eval()\n",
    "test_acc = accuracy(test_dataloader, model)\n",
    "print(f\"Test accuracy: {test_acc}\")\n",
    "\n",
    "# Metrics for classification, use this to get precision, recall, f2 from sklearn.metrics import classification_report, using cpu.\n",
    "from sklearn.metrics import classification_report\n",
    "\n",
    "y_pred = []\n",
    "y_true = []\n",
    "for inputs in test_dataloader:\n",
    "    to_cuda = lambda x: x.to(torch.device('cuda'), non_blocking=True).long()\n",
    "    input_ids, attention_mask, target = list(map(to_cuda, inputs.values()))\n",
    "\n",
    "    outputs = model(input_ids, attention_mask)\n",
    "    prediction = outputs.argmax(dim=1)\n",
    "    y_pred.extend(prediction.cpu().numpy())\n",
    "    y_true.extend(target.cpu().numpy())\n",
    "    \n",
    "print(classification_report(y_true, y_pred))\n",
    "# Confusion Matrix\n",
    "from sklearn.metrics import confusion_matrix\n",
    "import seaborn as sns\n",
    "\n",
    "cm = confusion_matrix(y_true, y_pred)\n",
    "sns.heatmap(cm, annot=True, fmt='d')\n",
    "plt.xlabel('Predicted')\n",
    "plt.ylabel('True')\n",
    "plt.show()"
   ],
   "metadata": {
    "collapsed": false
   },
   "id": "8fffc62a5cad83b1"
  },
  {
   "cell_type": "code",
   "execution_count": 15,
   "outputs": [],
   "source": [
    "# Saving the model\n",
    "torch.save(model.state_dict(), \"model_otp.pt\")"
   ],
   "metadata": {
    "collapsed": false
   },
   "id": "b834c81f0a0068cf"
  },
  {
   "cell_type": "code",
   "execution_count": null,
   "outputs": [],
   "source": [
    "# Plotting Confusion Matrix"
   ],
   "metadata": {
    "collapsed": false
   },
   "id": "77c6e84132658fd4"
  }
 ],
 "metadata": {
  "kernelspec": {
   "display_name": "Python 3",
   "language": "python",
   "name": "python3"
  },
  "language_info": {
   "codemirror_mode": {
    "name": "ipython",
    "version": 2
   },
   "file_extension": ".py",
   "mimetype": "text/x-python",
   "name": "python",
   "nbconvert_exporter": "python",
   "pygments_lexer": "ipython2",
   "version": "2.7.6"
  }
 },
 "nbformat": 4,
 "nbformat_minor": 5
}
