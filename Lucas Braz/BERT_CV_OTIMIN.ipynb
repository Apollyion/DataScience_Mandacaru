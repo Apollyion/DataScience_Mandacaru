{
 "cells": [
  {
   "cell_type": "markdown",
   "id": "5efdf5bdc449ec58",
   "metadata": {
    "collapsed": false
   },
   "source": [
    "## Section 1: Imports and Reading Data"
   ]
  },
  {
   "cell_type": "code",
   "execution_count": 1,
   "id": "initial_id",
   "metadata": {
    "ExecuteTime": {
     "end_time": "2023-12-02T00:43:06.886100485Z",
     "start_time": "2023-12-02T00:43:05.136026893Z"
    },
    "collapsed": false
   },
   "outputs": [],
   "source": [
    "# Imports\n",
    "import numpy as np\n",
    "import pandas as pd\n",
    "import transformers\n",
    "from transformers import BertModel\n",
    "from sklearn.model_selection import train_test_split, StratifiedKFold\n",
    "from sklearn.preprocessing import LabelEncoder\n",
    "import torch\n",
    "from torch import nn, optim\n",
    "from torch.optim.lr_scheduler import ReduceLROnPlateau\n",
    "from torch.utils.data import Dataset, DataLoader\n",
    "import matplotlib.pyplot as plt"
   ]
  },
  {
   "cell_type": "code",
   "execution_count": 2,
   "id": "11be062a0f81f65e",
   "metadata": {
    "ExecuteTime": {
     "end_time": "2023-12-02T00:43:06.910146568Z",
     "start_time": "2023-12-02T00:43:06.889132490Z"
    },
    "collapsed": false
   },
   "outputs": [],
   "source": [
    "# Reading Data\n",
    "df = pd.read_csv(\"data.csv\")\n",
    "encoder = LabelEncoder()\n",
    "labels = encoder.fit_transform(df.Sentiment)"
   ]
  },
  {
   "cell_type": "markdown",
   "id": "823ec94a90ecb3fc",
   "metadata": {
    "collapsed": false
   },
   "source": [
    "## Section 2: Preprocessing and Tokenization"
   ]
  },
  {
   "cell_type": "code",
   "execution_count": 3,
   "id": "21005642e38b9e26",
   "metadata": {
    "ExecuteTime": {
     "end_time": "2023-12-02T00:43:07.440307361Z",
     "start_time": "2023-12-02T00:43:07.193178904Z"
    },
    "collapsed": false
   },
   "outputs": [],
   "source": [
    "# Remove rows with null values\n",
    "df = df.dropna()\n",
    "\n",
    "# Tokenization\n",
    "tokenizer = transformers.BertTokenizer.from_pretrained('bert-base-uncased')\n",
    "X_train, X_test_final, y_train, y_test_final = train_test_split(df.Sentence.values, labels, test_size=0.1, stratify=df.Sentiment.values)"
   ]
  },
  {
   "cell_type": "markdown",
   "id": "5cc0e0762529db69",
   "metadata": {
    "ExecuteTime": {
     "end_time": "2023-11-28T22:02:19.225223042Z",
     "start_time": "2023-11-28T22:02:19.215326823Z"
    },
    "collapsed": false
   },
   "source": [
    "## Section 3: Dataset Class"
   ]
  },
  {
   "cell_type": "code",
   "execution_count": 4,
   "id": "106ada1fa2c497b",
   "metadata": {
    "ExecuteTime": {
     "end_time": "2023-12-02T00:43:09.103205745Z",
     "start_time": "2023-12-02T00:43:09.062452882Z"
    },
    "collapsed": false
   },
   "outputs": [],
   "source": [
    "# Dataset Class\n",
    "class Datagen(Dataset):\n",
    "    def __init__(self, sentence, target, tokenizer, max_len):\n",
    "        self.sentence = sentence\n",
    "        self.target = target\n",
    "        self.tokenizer = tokenizer\n",
    "        self.max_len = max_len\n",
    "\n",
    "    def __len__(self):\n",
    "        return len(self.sentence)\n",
    "\n",
    "    def __getitem__(self, idx):\n",
    "        sentence = self.sentence[idx]\n",
    "        bert_encoding = tokenizer.encode_plus(\n",
    "            sentence,\n",
    "            max_length=self.max_len,\n",
    "            add_special_tokens=True,\n",
    "            padding='max_length',\n",
    "            truncation=True,\n",
    "            return_attention_mask=True,\n",
    "            return_token_type_ids=False,\n",
    "            return_tensors='pt'\n",
    "        )\n",
    "        return {\n",
    "            \"input_ids\": torch.squeeze(bert_encoding[\"input_ids\"]),\n",
    "            \"attention_mask\": torch.squeeze(bert_encoding[\"attention_mask\"]),\n",
    "            \"target\": torch.tensor(self.target[idx], dtype=torch.long)\n",
    "        }\n"
   ]
  },
  {
   "cell_type": "markdown",
   "id": "6ffc6c947c362f81",
   "metadata": {
    "collapsed": false
   },
   "source": [
    "## Section 4: Model Parameters"
   ]
  },
  {
   "cell_type": "code",
   "execution_count": 5,
   "id": "c788409aa18a0d2b",
   "metadata": {
    "ExecuteTime": {
     "end_time": "2023-12-02T00:43:12.175100693Z",
     "start_time": "2023-12-02T00:43:09.820512283Z"
    },
    "collapsed": false
   },
   "outputs": [
    {
     "name": "stderr",
     "output_type": "stream",
     "text": [
      "Some weights of the model checkpoint at bert-base-uncased were not used when initializing BertModel: ['cls.seq_relationship.weight', 'cls.predictions.transform.LayerNorm.bias', 'cls.seq_relationship.bias', 'cls.predictions.transform.dense.bias', 'cls.predictions.bias', 'cls.predictions.transform.LayerNorm.weight', 'cls.predictions.transform.dense.weight', 'cls.predictions.decoder.weight']\n",
      "- This IS expected if you are initializing BertModel from the checkpoint of a model trained on another task or with another architecture (e.g. initializing a BertForSequenceClassification model from a BertForPreTraining model).\n",
      "- This IS NOT expected if you are initializing BertModel from the checkpoint of a model that you expect to be exactly identical (initializing a BertForSequenceClassification model from a BertForSequenceClassification model).\n"
     ]
    }
   ],
   "source": [
    "class SentimentModel(nn.Module):\n",
    "    def __init__(self, n_class):\n",
    "        super(SentimentModel, self).__init__()\n",
    "        self.bert = BertModel.from_pretrained(\"bert-base-uncased\")\n",
    "        self.drop = nn.Dropout(0.3)\n",
    "        self.out = nn.Linear(self.bert.config.hidden_size, n_class)\n",
    "        # self.softmax = nn.Softmax(dim=1)\n",
    "\n",
    "    def forward(self, input_ids, attention_mask):\n",
    "        _, pooled_output = self.bert(input_ids, attention_mask, return_dict=False)\n",
    "        output = self.drop(pooled_output)\n",
    "        return self.out(output)\n",
    "\n",
    "model = SentimentModel(n_class=3)\n",
    "model = model.to(torch.device('cuda'))\n",
    "optimizer = torch.optim.AdamW(model.parameters(), lr=2e-5)\n",
    "criterion = nn.CrossEntropyLoss()\n",
    "scheduler = ReduceLROnPlateau(optimizer, 'min',verbose=True)\n"
   ]
  },
  {
   "cell_type": "markdown",
   "id": "7c495e6ffa8b4105",
   "metadata": {
    "collapsed": false
   },
   "source": [
    "## Section 5: Helper Functions"
   ]
  },
  {
   "cell_type": "code",
   "execution_count": 6,
   "id": "48115469d0a0ec8",
   "metadata": {
    "ExecuteTime": {
     "end_time": "2023-12-02T00:43:12.191696893Z",
     "start_time": "2023-12-02T00:43:12.175629444Z"
    },
    "collapsed": false
   },
   "outputs": [],
   "source": [
    "def check_acc(preds, labels):\n",
    "    correct = 0\n",
    "    for pred, label in zip(preds, labels):\n",
    "        if pred == label:\n",
    "            correct += 1\n",
    "    return correct/len(preds)\n",
    "\n",
    "def accuracy(dataloader, model):\n",
    "    model.eval()\n",
    "    batch_acc = 0\n",
    "    for inputs in dataloader:\n",
    "        to_cuda = lambda x: x.to(torch.device('cuda'), non_blocking=True).long()\n",
    "        input_ids, attention_mask, target = list(map(to_cuda, inputs.values()))\n",
    "\n",
    "        outputs = model(input_ids, attention_mask)\n",
    "        prediction = outputs.argmax(dim=1)\n",
    "        acc = check_acc(prediction, target)\n",
    "        batch_acc += acc\n",
    "    return batch_acc/len(dataloader)\n"
   ]
  },
  {
   "cell_type": "markdown",
   "id": "568dc282533b85ee",
   "metadata": {
    "collapsed": false
   },
   "source": [
    "## Section 6: Training with Cross-Validation"
   ]
  },
  {
   "cell_type": "code",
   "execution_count": 8,
   "id": "ac55dd79e17c13b6",
   "metadata": {
    "ExecuteTime": {
     "end_time": "2023-12-02T00:45:19.366499336Z",
     "start_time": "2023-12-02T00:43:21.901715565Z"
    },
    "collapsed": false
   },
   "outputs": [
    {
     "name": "stdout",
     "output_type": "stream",
     "text": [
      "Fold 1/2\n"
     ]
    },
    {
     "name": "stderr",
     "output_type": "stream",
     "text": [
      "Some weights of the model checkpoint at bert-base-uncased were not used when initializing BertModel: ['cls.seq_relationship.weight', 'cls.predictions.transform.LayerNorm.bias', 'cls.seq_relationship.bias', 'cls.predictions.transform.dense.bias', 'cls.predictions.bias', 'cls.predictions.transform.LayerNorm.weight', 'cls.predictions.transform.dense.weight', 'cls.predictions.decoder.weight']\n",
      "- This IS expected if you are initializing BertModel from the checkpoint of a model trained on another task or with another architecture (e.g. initializing a BertForSequenceClassification model from a BertForPreTraining model).\n",
      "- This IS NOT expected if you are initializing BertModel from the checkpoint of a model that you expect to be exactly identical (initializing a BertForSequenceClassification model from a BertForSequenceClassification model).\n"
     ]
    },
    {
     "name": "stdout",
     "output_type": "stream",
     "text": [
      "Fold 1/2\t Epoch: 0\t Train accuracy: 0.7650602409638554\t CV accuracy: 0.6795454545454548\n"
     ]
    },
    {
     "name": "stderr",
     "output_type": "stream",
     "text": [
      "/home/apo-pc/anaconda3/lib/python3.11/site-packages/torch/optim/lr_scheduler.py:136: UserWarning: Detected call of `lr_scheduler.step()` before `optimizer.step()`. In PyTorch 1.1.0 and later, you should call them in the opposite order: `optimizer.step()` before `lr_scheduler.step()`.  Failure to do this will result in PyTorch skipping the first value of the learning rate schedule. See more details at https://pytorch.org/docs/stable/optim.html#how-to-adjust-learning-rate\n",
      "  warnings.warn(\"Detected call of `lr_scheduler.step()` before `optimizer.step()`. \"\n"
     ]
    },
    {
     "name": "stdout",
     "output_type": "stream",
     "text": [
      "Fold 1/2\t Epoch: 1\t Train accuracy: 0.8516566265060241\t CV accuracy: 0.7276515151515155\n",
      "Fold 1/2\t Epoch: 2\t Train accuracy: 0.9096385542168675\t CV accuracy: 0.7731060606060609\n",
      "Fold 1/2\t Epoch: 3\t Train accuracy: 0.9239457831325302\t CV accuracy: 0.7962121212121217\n",
      "Fold 1/2\t Epoch: 4\t Train accuracy: 0.9518072289156626\t CV accuracy: 0.7840909090909096\n",
      "Fold 1/2\t Epoch: 5\t Train accuracy: 0.9615963855421686\t CV accuracy: 0.7750000000000004\n",
      "Fold 1/2\t Epoch: 6\t Train accuracy: 0.9525602409638554\t CV accuracy: 0.7931818181818184\n",
      "Fold 1/2\t Epoch: 7\t Train accuracy: 0.9563253012048193\t CV accuracy: 0.7931818181818184\n",
      "Fold 1/2\t Epoch: 8\t Train accuracy: 0.9698795180722891\t CV accuracy: 0.7840909090909093\n",
      "Fold 1/2\t Epoch: 9\t Train accuracy: 0.973644578313253\t CV accuracy: 0.7901515151515155\n",
      "Fold 2/2\n"
     ]
    },
    {
     "ename": "IndexError",
     "evalue": "index 1319 is out of bounds for axis 0 with size 1314",
     "output_type": "error",
     "traceback": [
      "\u001b[0;31m---------------------------------------------------------------------------\u001b[0m",
      "\u001b[0;31mIndexError\u001b[0m                                Traceback (most recent call last)",
      "Cell \u001b[0;32mIn[8], line 14\u001b[0m\n\u001b[1;32m     11\u001b[0m \u001b[38;5;28;01mfor\u001b[39;00m fold, (train_index, test_index) \u001b[38;5;129;01min\u001b[39;00m \u001b[38;5;28menumerate\u001b[39m(skf\u001b[38;5;241m.\u001b[39msplit(X_train, y_train)):\n\u001b[1;32m     12\u001b[0m     \u001b[38;5;28mprint\u001b[39m(\u001b[38;5;124mf\u001b[39m\u001b[38;5;124m\"\u001b[39m\u001b[38;5;124mFold \u001b[39m\u001b[38;5;132;01m{\u001b[39;00mfold\u001b[38;5;250m \u001b[39m\u001b[38;5;241m+\u001b[39m\u001b[38;5;250m \u001b[39m\u001b[38;5;241m1\u001b[39m\u001b[38;5;132;01m}\u001b[39;00m\u001b[38;5;124m/\u001b[39m\u001b[38;5;132;01m{\u001b[39;00mskf\u001b[38;5;241m.\u001b[39mget_n_splits()\u001b[38;5;132;01m}\u001b[39;00m\u001b[38;5;124m\"\u001b[39m)\n\u001b[0;32m---> 14\u001b[0m     X_train, X_temp \u001b[38;5;241m=\u001b[39m X_train[train_index], X_train[test_index]\n\u001b[1;32m     15\u001b[0m     y_train, y_temp \u001b[38;5;241m=\u001b[39m y_train[train_index], y_train[test_index]\n\u001b[1;32m     17\u001b[0m     \u001b[38;5;66;03m# Further split the test set into cv and test\u001b[39;00m\n",
      "\u001b[0;31mIndexError\u001b[0m: index 1319 is out of bounds for axis 0 with size 1314"
     ]
    }
   ],
   "source": [
    "num_epochs = 10\n",
    "skf = StratifiedKFold(n_splits=2, shuffle=True)\n",
    "cv_fold_acc = []\n",
    "cv_epoch_acc = []\n",
    "\n",
    "# Lists to store training and validation loss\n",
    "train_losses = []\n",
    "cv_losses = []\n",
    "\n",
    "\n",
    "for fold, (train_index, test_index) in enumerate(skf.split(X_train, y_train)):\n",
    "    print(f\"Fold {fold + 1}/{skf.get_n_splits()}\")\n",
    "\n",
    "    X_train, X_temp = X_train[train_index], X_train[test_index]\n",
    "    y_train, y_temp = y_train[train_index], y_train[test_index]\n",
    "\n",
    "    # Further split the test set into cv and test\n",
    "    X_cv, X_test, y_cv, y_test = train_test_split(X_temp, y_temp, test_size=0.5, stratify=y_temp)\n",
    "\n",
    "    train_data = Datagen(X_train, y_train, tokenizer, 50)\n",
    "    cv_data = Datagen(X_cv, y_cv, tokenizer, 50)\n",
    "    test_data = Datagen(X_test, y_test, tokenizer, 50)\n",
    "\n",
    "    train_dataloader = DataLoader(train_data, batch_size=16, num_workers=2)\n",
    "    cv_dataloader = DataLoader(cv_data, batch_size=15, num_workers=2)\n",
    "    test_dataloader = DataLoader(test_data, batch_size=15, num_workers=2)\n",
    "    scheduler = torch.optim.lr_scheduler.CosineAnnealingLR(optimizer, T_max=num_epochs * len(train_dataloader))\n",
    "\n",
    "    with torch.no_grad():\n",
    "        torch.cuda.empty_cache()\n",
    "    # Create a new instance of the model for each fold\n",
    "    model = SentimentModel(n_class=3)  # Replace YourModel with the actual class or function to create your model\n",
    "    model.to(torch.device('cuda'))\n",
    "\n",
    "    optimizer = torch.optim.AdamW(model.parameters(), lr=2e-5)\n",
    "    criterion = nn.CrossEntropyLoss()\n",
    "\n",
    "    # Lists to store training and validation loss for each fold\n",
    "    all_train_losses = []\n",
    "    all_cv_losses = []\n",
    "    \n",
    "    for epoch in range(num_epochs):\n",
    "        model.train()\n",
    "        total_loss = 0\n",
    "        for steps, inputs in enumerate(train_dataloader):\n",
    "            to_cuda = lambda x: x.to(torch.device('cuda'), non_blocking=True).long()\n",
    "            input_ids, attention_mask, target = list(map(to_cuda, inputs.values()))\n",
    "            outputs = model(input_ids, attention_mask)\n",
    "            loss = criterion(outputs, target)\n",
    "            optimizer.zero_grad()\n",
    "            loss.backward()\n",
    "            optimizer.step()\n",
    "            total_loss += loss.item()\n",
    "\n",
    "        average_loss = total_loss / len(train_dataloader)\n",
    "        train_losses.append(average_loss)  # Save training loss\n",
    "\n",
    "        train_acc = accuracy(train_dataloader, model)\n",
    "        cv_acc = accuracy(cv_dataloader, model)\n",
    "        cv_epoch_acc.append(cv_acc)\n",
    "        \n",
    "        print(f\"Fold {fold + 1}/{skf.get_n_splits()}\\t Epoch: {epoch}\\t Train accuracy: {train_acc}\\t CV accuracy: {cv_acc}\")\n",
    "\n",
    "        scheduler.step() \n",
    "    \n",
    "    cv_fold_acc.append(cv_epoch_acc[-1])\n",
    "    cv_loss = criterion(outputs, target).item()  # Calculate validation loss\n",
    "    cv_losses.append(cv_loss)  # Save validation loss\n",
    "\n",
    "    all_train_losses.append(train_losses)\n",
    "    all_cv_losses.append(cv_losses)\n",
    "\n",
    "print(f\"Average CV accuracy: {np.mean(cv_fold_acc)}\")\n",
    "# Best CV accuracy:\n",
    "print(f\"Best CV accuracy: {np.max(cv_fold_acc)}\")\n",
    "\n",
    "# Worst CV accuracy:\n",
    "print(f\"Worst CV accuracy: {np.min(cv_fold_acc)}\")\n"
   ]
  },
  {
   "cell_type": "code",
   "execution_count": 9,
   "id": "3262710279316df",
   "metadata": {
    "ExecuteTime": {
     "end_time": "2023-12-02T00:46:06.598257641Z",
     "start_time": "2023-12-02T00:46:06.315474364Z"
    },
    "collapsed": false
   },
   "outputs": [
    {
     "data": {
      "image/png": "[encoded data removed]",
      "text/plain": [
       "<Figure size 1200x800 with 1 Axes>"
      ]
     },
     "metadata": {},
     "output_type": "display_data"
    }
   ],
   "source": [
    "# Plotting Training and Validation Loss Curves for each fold\n",
    "plt.figure(figsize=(12, 8))\n",
    "for fold in range(len(all_train_losses)):\n",
    "    plt.plot(all_train_losses[fold], label=f'Training Loss - Fold {fold + 1}')\n",
    "    plt.plot(all_cv_losses[fold], label=f'Validation Loss - Fold {fold + 1}', linestyle='--')\n",
    "\n",
    "plt.xlabel('Epoch')\n",
    "plt.ylabel('Loss')\n",
    "plt.title('Training and Validation Loss Curves for each fold')\n",
    "plt.legend()\n",
    "plt.show()\n"
   ]
  },
  {
   "cell_type": "markdown",
   "id": "5a317c5f3e3e6527",
   "metadata": {
    "collapsed": false
   },
   "source": [
    "## Section 7: Testing"
   ]
  },
  {
   "cell_type": "code",
   "execution_count": 10,
   "id": "8fffc62a5cad83b1",
   "metadata": {
    "ExecuteTime": {
     "end_time": "2023-12-02T00:46:13.629379130Z",
     "start_time": "2023-12-02T00:46:11.020228011Z"
    },
    "collapsed": false
   },
   "outputs": [
    {
     "name": "stdout",
     "output_type": "stream",
     "text": [
      "Test accuracy: 0.7424242424242427\n",
      "              precision    recall  f1-score   support\n",
      "\n",
      "           0       0.36      0.32      0.34        97\n",
      "           1       0.77      0.84      0.81       352\n",
      "           2       0.86      0.77      0.81       208\n",
      "\n",
      "    accuracy                           0.74       657\n",
      "   macro avg       0.66      0.64      0.65       657\n",
      "weighted avg       0.74      0.74      0.74       657\n"
     ]
    },
    {
     "data": {
      "image/png": "[encoded data removed]",
      "text/plain": [
       "<Figure size 640x480 with 2 Axes>"
      ]
     },
     "metadata": {},
     "output_type": "display_data"
    }
   ],
   "source": [
    "# Testing\n",
    "model.eval()\n",
    "test_acc = accuracy(test_dataloader, model)\n",
    "print(f\"Test accuracy: {test_acc}\")\n",
    "\n",
    "# Metrics for classification, use this to get precision, recall, f2 from sklearn.metrics import classification_report, using cpu.\n",
    "from sklearn.metrics import classification_report\n",
    "\n",
    "y_pred = []\n",
    "y_true = []\n",
    "for inputs in test_dataloader:\n",
    "    to_cuda = lambda x: x.to(torch.device('cuda'), non_blocking=True).long()\n",
    "    input_ids, attention_mask, target = list(map(to_cuda, inputs.values()))\n",
    "\n",
    "    outputs = model(input_ids, attention_mask)\n",
    "    prediction = outputs.argmax(dim=1)\n",
    "    y_pred.extend(prediction.cpu().numpy())\n",
    "    y_true.extend(target.cpu().numpy())\n",
    "    \n",
    "print(classification_report(y_true, y_pred))\n",
    "# Confusion Matrix\n",
    "from sklearn.metrics import confusion_matrix\n",
    "import seaborn as sns\n",
    "\n",
    "cm = confusion_matrix(y_true, y_pred)\n",
    "sns.heatmap(cm, annot=True, fmt='d')\n",
    "plt.xlabel('Predicted')\n",
    "plt.ylabel('True')\n",
    "plt.show()"
   ]
  },
  {
   "cell_type": "markdown",
   "id": "3ef06e96708b308d",
   "metadata": {
    "collapsed": false
   },
   "source": [
    "## Section 8: Saving the Model"
   ]
  },
  {
   "cell_type": "code",
   "execution_count": 15,
   "id": "b834c81f0a0068cf",
   "metadata": {
    "collapsed": false
   },
   "outputs": [],
   "source": [
    "# Saving the model\n",
    "torch.save(model.state_dict(), \"model_otp.pt\")"
   ]
  },
  {
   "cell_type": "code",
   "execution_count": null,
   "id": "77c6e84132658fd4",
   "metadata": {
    "collapsed": false
   },
   "outputs": [],
   "source": [
    "# Plotting Confusion Matrix"
   ]
  },
  {
   "cell_type": "code",
   "execution_count": 14,
   "id": "abb99f4ee57dbdb1",
   "metadata": {
    "collapsed": false
   },
   "outputs": [],
   "source": [
    "del model\n",
    "import gc\n",
    "gc.collect()\n",
    "torch.cuda.empty_cache() # PyTorch thing\n"
   ]
  }
 ],
 "metadata": {
  "kernelspec": {
   "display_name": "Python 3 (ipykernel)",
   "language": "python",
   "name": "python3"
  },
  "language_info": {
   "codemirror_mode": {
    "name": "ipython",
    "version": 3
   },
   "file_extension": ".py",
   "mimetype": "text/x-python",
   "name": "python",
   "nbconvert_exporter": "python",
   "pygments_lexer": "ipython3",
   "version": "3.11.4"
  }
 },
 "nbformat": 4,
 "nbformat_minor": 5
}
